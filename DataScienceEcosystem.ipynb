{
 "cells": [
  {
   "cell_type": "markdown",
   "id": "a0ff2013",
   "metadata": {},
   "source": [
    "# Data Science Tools and Ecosystem"
   ]
  },
  {
   "cell_type": "markdown",
   "id": "4bbc91f1",
   "metadata": {},
   "source": [
    "In this notebook, Data Science Tools and Ecosystem are summarized."
   ]
  },
  {
   "cell_type": "markdown",
   "id": "89bfb4ff",
   "metadata": {},
   "source": [
    "__Objectives:__\n",
    "* Create a Jupyter Notebook \n",
    "* Insert code and markdown cells\n",
    "* Share your notebook through GitHub"
   ]
  },
  {
   "cell_type": "markdown",
   "id": "e6547d1f",
   "metadata": {},
   "source": [
    "* Some of the popular languages that Data Scientists use are:\n",
    "1. python\n",
    "2. R\n",
    "3. Scala \n",
    "4. Julia\n",
    "<b>\n",
    "* Some of the commonly used libraries used by Data Scientists include:\n",
    "1. pandas \n",
    "2. Tensorflow\n",
    "3. scikit-learn\n",
    "4. stringr"
   ]
  },
  {
   "cell_type": "markdown",
   "id": "137b6517",
   "metadata": {},
   "source": [
    "#### Data Science Tools"
   ]
  },
  {
   "cell_type": "markdown",
   "id": "e3270495",
   "metadata": {},
   "source": [
    "| Data Science Tools |\n",
    "| --- |\n",
    "| RStudio |\n",
    "| Spyder |\n",
    "| jupyterlab |\n"
   ]
  },
  {
   "cell_type": "markdown",
   "id": "d5b712fc",
   "metadata": {},
   "source": [
    "### Below are a few examples of evaluating arithmetic expressions in Python"
   ]
  },
  {
   "cell_type": "code",
   "execution_count": 2,
   "id": "977b5941",
   "metadata": {},
   "outputs": [
    {
     "data": {
      "text/plain": [
       "17"
      ]
     },
     "execution_count": 2,
     "metadata": {},
     "output_type": "execute_result"
    }
   ],
   "source": [
    "# This a simple arithmetic expression to mutiply then add integers\n",
    "(3*4)+5"
   ]
  },
  {
   "cell_type": "code",
   "execution_count": 7,
   "id": "bd4cba75",
   "metadata": {},
   "outputs": [
    {
     "data": {
      "text/plain": [
       "'3:20'"
      ]
     },
     "execution_count": 7,
     "metadata": {},
     "output_type": "execute_result"
    }
   ],
   "source": [
    "# This will convert 200 minutes to hours by diving by 60\n",
    "def convert_min_2_hour(mins):\n",
    "    r = mins % 60\n",
    "    m = mins // 60\n",
    "    return str(m) + \":\" + str(r)\n",
    "convert_min_2_hour(200)"
   ]
  },
  {
   "cell_type": "markdown",
   "id": "05d88907",
   "metadata": {},
   "source": [
    "## Author \n",
    "<br>\n",
    "Abdulaziz Salman"
   ]
  },
  {
   "cell_type": "code",
   "execution_count": null,
   "id": "3d5d9827",
   "metadata": {},
   "outputs": [],
   "source": []
  }
 ],
 "metadata": {
  "kernelspec": {
   "display_name": "Python 3 (ipykernel)",
   "language": "python",
   "name": "python3"
  },
  "language_info": {
   "codemirror_mode": {
    "name": "ipython",
    "version": 3
   },
   "file_extension": ".py",
   "mimetype": "text/x-python",
   "name": "python",
   "nbconvert_exporter": "python",
   "pygments_lexer": "ipython3",
   "version": "3.10.9"
  }
 },
 "nbformat": 4,
 "nbformat_minor": 5
}
